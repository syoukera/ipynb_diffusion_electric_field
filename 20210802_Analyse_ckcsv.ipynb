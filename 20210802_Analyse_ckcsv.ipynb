{
 "cells": [
  {
   "cell_type": "code",
   "execution_count": 9,
   "source": [
    "import os\r\n",
    "import numpy as np\r\n",
    "import cantera as ct\r\n",
    "import pandas as pd\r\n",
    "import matplotlib.pyplot as plt\r\n",
    "%matplotlib inline"
   ],
   "outputs": [],
   "metadata": {}
  },
  {
   "cell_type": "code",
   "execution_count": 3,
   "source": [
    "dfs = []\r\n",
    "\r\n",
    "for i in range(1, 9):\r\n",
    "\r\n",
    "    base_path = 'flame_speed_ch4_20210531_102003'\r\n",
    "    file_path = f'/RUN_{i:06}/CKSoln_Flame_SpeedC1.ckcsv'\r\n",
    "    path = base_path + file_path\r\n",
    "    \r\n",
    "    df_read = pd.read_csv(path, skiprows=1, header=None)\r\n",
    "\r\n",
    "    columns_long = df_read.iloc[:, 0] + df_read.iloc[:, 1] \r\n",
    "\r\n",
    "    columns = []\r\n",
    "    for name in columns_long:\r\n",
    "        columns.append(name.split('_Run')[0])\r\n",
    "\r\n",
    "    df = pd.DataFrame(data=df_read.iloc[:, 2:].T.to_numpy(), columns=columns)\r\n",
    "    \r\n",
    "    dfs.append(df)"
   ],
   "outputs": [],
   "metadata": {
    "tags": []
   }
  },
  {
   "cell_type": "code",
   "execution_count": 4,
   "source": [
    "print(columns)"
   ],
   "outputs": [
    {
     "output_type": "stream",
     "name": "stdout",
     "text": [
      "['Distance', 'Pressure', 'Mass_density', 'Axial_velocity', 'Cross-section_area', 'Net_heat_production_from_gas-phase_reactions', 'EINO', 'EINO2', 'EINOX', 'EICO', 'Unburned_fuel_fraction', 'Temperature', 'Mole_fraction_H2', 'Mole_fraction_H', 'Mole_fraction_O', 'Mole_fraction_O2', 'Mole_fraction_OH', 'Mole_fraction_H2O', 'Mole_fraction_HO2', 'Mole_fraction_H2O2', 'Mole_fraction_C', 'Mole_fraction_CH', 'Mole_fraction_CH2', 'Mole_fraction_CH2(S)', 'Mole_fraction_CH3', 'Mole_fraction_CH4', 'Mole_fraction_CO', 'Mole_fraction_CO2', 'Mole_fraction_HCO', 'Mole_fraction_CH2O', 'Mole_fraction_CH2OH', 'Mole_fraction_CH3O', 'Mole_fraction_CH3OH', 'Mole_fraction_C2H', 'Mole_fraction_C2H2', 'Mole_fraction_C2H3', 'Mole_fraction_C2H4', 'Mole_fraction_C2H5', 'Mole_fraction_C2H6', 'Mole_fraction_HCCO', 'Mole_fraction_CH2CO', 'Mole_fraction_HCCOH', 'Mole_fraction_N', 'Mole_fraction_NH', 'Mole_fraction_NH2', 'Mole_fraction_NH3', 'Mole_fraction_NNH', 'Mole_fraction_NO', 'Mole_fraction_NO2', 'Mole_fraction_N2O', 'Mole_fraction_HNO', 'Mole_fraction_CN', 'Mole_fraction_HCN', 'Mole_fraction_H2CN', 'Mole_fraction_HCNN', 'Mole_fraction_HCNO', 'Mole_fraction_HOCN', 'Mole_fraction_HNCO', 'Mole_fraction_NCO', 'Mole_fraction_N2', 'Mole_fraction_AR', 'Mole_fraction_C3H7', 'Mole_fraction_C3H8', 'Mole_fraction_CH2CHO', 'Mole_fraction_CH3CHO', 'Flow_rate', 'Molecular_weight', 'Specific_heat_Cp', 'Mixture_thermal_conductivity', 'Mixture_binary_diffusion_coefficients_H2', 'Mixture_binary_diffusion_coefficients_H', 'Mixture_binary_diffusion_coefficients_O', 'Mixture_binary_diffusion_coefficients_O2', 'Mixture_binary_diffusion_coefficients_OH', 'Mixture_binary_diffusion_coefficients_H2O', 'Mixture_binary_diffusion_coefficients_HO2', 'Mixture_binary_diffusion_coefficients_H2O2', 'Mixture_binary_diffusion_coefficients_C', 'Mixture_binary_diffusion_coefficients_CH', 'Mixture_binary_diffusion_coefficients_CH2', 'Mixture_binary_diffusion_coefficients_CH2(S)', 'Mixture_binary_diffusion_coefficients_CH3', 'Mixture_binary_diffusion_coefficients_CH4', 'Mixture_binary_diffusion_coefficients_CO', 'Mixture_binary_diffusion_coefficients_CO2', 'Mixture_binary_diffusion_coefficients_HCO', 'Mixture_binary_diffusion_coefficients_CH2O', 'Mixture_binary_diffusion_coefficients_CH2OH', 'Mixture_binary_diffusion_coefficients_CH3O', 'Mixture_binary_diffusion_coefficients_CH3OH', 'Mixture_binary_diffusion_coefficients_C2H', 'Mixture_binary_diffusion_coefficients_C2H2', 'Mixture_binary_diffusion_coefficients_C2H3', 'Mixture_binary_diffusion_coefficients_C2H4', 'Mixture_binary_diffusion_coefficients_C2H5', 'Mixture_binary_diffusion_coefficients_C2H6', 'Mixture_binary_diffusion_coefficients_HCCO', 'Mixture_binary_diffusion_coefficients_CH2CO', 'Mixture_binary_diffusion_coefficients_HCCOH', 'Mixture_binary_diffusion_coefficients_N', 'Mixture_binary_diffusion_coefficients_NH', 'Mixture_binary_diffusion_coefficients_NH2', 'Mixture_binary_diffusion_coefficients_NH3', 'Mixture_binary_diffusion_coefficients_NNH', 'Mixture_binary_diffusion_coefficients_NO', 'Mixture_binary_diffusion_coefficients_NO2', 'Mixture_binary_diffusion_coefficients_N2O', 'Mixture_binary_diffusion_coefficients_HNO', 'Mixture_binary_diffusion_coefficients_CN', 'Mixture_binary_diffusion_coefficients_HCN', 'Mixture_binary_diffusion_coefficients_H2CN', 'Mixture_binary_diffusion_coefficients_HCNN', 'Mixture_binary_diffusion_coefficients_HCNO', 'Mixture_binary_diffusion_coefficients_HOCN', 'Mixture_binary_diffusion_coefficients_HNCO', 'Mixture_binary_diffusion_coefficients_NCO', 'Mixture_binary_diffusion_coefficients_N2', 'Mixture_binary_diffusion_coefficients_AR', 'Mixture_binary_diffusion_coefficients_C3H7', 'Mixture_binary_diffusion_coefficients_C3H8', 'Mixture_binary_diffusion_coefficients_CH2CHO', 'Mixture_binary_diffusion_coefficients_CH3CHO', 'label solution_point_value_vs_solution_number', 'Solution_No', 'Number_of_grid_points', 'Flame_speed']\n"
     ]
    }
   ],
   "metadata": {
    "tags": []
   }
  },
  {
   "cell_type": "markdown",
   "source": [
    "# Pre-procces\n",
    "get Mass Fraction"
   ],
   "metadata": {}
  },
  {
   "cell_type": "code",
   "execution_count": 29,
   "source": [
    "# Load Molecular Weight\r\n",
    "df_species = pd.read_csv('Species_List_GRI.csv')\r\n",
    "num_species = df_species.shape[0]\r\n",
    "columns_X = 'Mole_fraction_' + df_species['Name'].to_numpy()\r\n",
    "columns_Y = 'Mass_fraction_' + df_species['Name'].to_numpy()\r\n",
    "molecular_weights = df_species['Molecular_Weight'].to_numpy()\r\n",
    "\r\n",
    "dfs_Y = []\r\n",
    "\r\n",
    "for df in dfs:\r\n",
    "\r\n",
    "    # Prepare ndarray from dataframe\r\n",
    "    mole_fractions = df[columns_X].to_numpy()\r\n",
    "    mean_molecular_weight = df['Molecular_weight'].to_numpy()\r\n",
    "\r\n",
    "    # Calculate mass fraction\r\n",
    "    mass_fractions = np.divide(np.multiply(mole_fractions, molecular_weights).T, mean_molecular_weight).T\r\n",
    "    df_Y = pd.DataFrame(mass_fractions, columns=columns_Y)\r\n",
    "\r\n",
    "    dfs_Y.append(df_Y)"
   ],
   "outputs": [],
   "metadata": {
    "tags": []
   }
  },
  {
   "cell_type": "markdown",
   "source": [
    "# Test to get binary diffusion coefficient\r\n",
    "using cantera"
   ],
   "metadata": {}
  },
  {
   "cell_type": "code",
   "execution_count": 54,
   "source": [
    "T = df['Temperature'][0]\r\n",
    "P = df['Pressure'][0]\r\n",
    "X = df[columns_X].to_numpy()[0, :]\r\n",
    "Y = df_Y.to_numpy()[0, :]\r\n",
    "dYdx = np.gradient(df_Y, df['Distance'], axis=0)[0, :]"
   ],
   "outputs": [],
   "metadata": {}
  },
  {
   "cell_type": "code",
   "execution_count": 14,
   "source": [
    "gas = ct.Solution('gri30.yaml')\r\n",
    "gas.TPX = T, P, X"
   ],
   "outputs": [],
   "metadata": {}
  },
  {
   "cell_type": "code",
   "execution_count": 25,
   "source": [
    "D_ij = gas.binary_diff_coeffs"
   ],
   "outputs": [],
   "metadata": {}
  },
  {
   "cell_type": "code",
   "execution_count": 26,
   "source": [
    "mu_ij = D_ij/(8.617e-5*T)"
   ],
   "outputs": [],
   "metadata": {}
  },
  {
   "cell_type": "code",
   "execution_count": 31,
   "source": [
    "sum = np.zeros(num_species)\r\n",
    "\r\n",
    "for i in range(num_species):\r\n",
    "    for j in range(num_species):\r\n",
    "        \r\n",
    "        if i == j:\r\n",
    "            continue\r\n",
    "\r\n",
    "        sum[i] += X[i]/mu_ij[i, j]\r\n",
    "\r\n",
    "mu_im = np.divide(1.0, sum)"
   ],
   "outputs": [],
   "metadata": {}
  },
  {
   "cell_type": "code",
   "execution_count": 36,
   "source": [
    "mu_im"
   ],
   "outputs": [
    {
     "output_type": "execute_result",
     "data": {
      "text/plain": [
       "array([ 1.31846914e+07,  3.65483170e+18, -1.40337971e+17,  7.59735784e+00,\n",
       "        4.36464409e+17,  7.92787877e+08, -1.00370982e+12,  6.23563234e+11,\n",
       "        3.74421188e+18,  3.71503674e+18,  3.67483150e+18,  3.67465941e+18,\n",
       "       -1.64503491e+13,  1.24581742e+01,  4.98461298e+09,  7.65587259e+10,\n",
       "        3.52069758e+18,  3.64478247e+11,  3.55297059e+18,  1.51271407e+17,\n",
       "        2.99668601e+12,  3.62345445e+18,  2.34984544e+12,  3.62177797e+18,\n",
       "        8.49741709e+11,  3.60206770e+18,  9.30527941e+11,  3.60108607e+18,\n",
       "        2.34014294e+13,  2.06029501e+16,  3.74335171e+18,  3.71055816e+18,\n",
       "        6.27822621e+14,  1.01382230e+14,  3.74092544e+18, -8.63893619e+13,\n",
       "        2.11872044e+13,  6.11584828e+16,  2.92230051e+16,  3.74049213e+18,\n",
       "        1.23642643e+14,  2.96531572e+17,  3.60068713e+18,  6.66108794e+15,\n",
       "        4.53897177e+17,  8.45562494e+14,  9.83792762e+17,  2.02985740e+00,\n",
       "        3.63877181e+18,  3.85270932e+18,  3.77716182e+14,  3.53148331e+18,\n",
       "        1.54065419e+14])"
      ]
     },
     "metadata": {},
     "execution_count": 36
    }
   ],
   "metadata": {}
  },
  {
   "cell_type": "markdown",
   "source": [
    "# Calculate Diffusion Coefficient"
   ],
   "metadata": {}
  },
  {
   "cell_type": "code",
   "execution_count": null,
   "source": [
    "D_dash = D - mu*Y*E/dYdx"
   ],
   "outputs": [],
   "metadata": {}
  }
 ],
 "metadata": {
  "kernelspec": {
   "name": "python3",
   "display_name": "Python 3.9.6 64-bit ('cantera': conda)"
  },
  "language_info": {
   "codemirror_mode": {
    "name": "ipython",
    "version": 3
   },
   "file_extension": ".py",
   "mimetype": "text/x-python",
   "name": "python",
   "nbconvert_exporter": "python",
   "pygments_lexer": "ipython3",
   "version": "3.9.6"
  },
  "interpreter": {
   "hash": "1635d9291db09a2eeab95dfc9324b984173ddb0eb06d7df4ba39d53150a3b53f"
  }
 },
 "nbformat": 4,
 "nbformat_minor": 5
}