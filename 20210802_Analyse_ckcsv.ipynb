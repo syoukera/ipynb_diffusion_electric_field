{
 "cells": [
  {
   "cell_type": "code",
   "execution_count": 9,
   "source": [
    "import os\r\n",
    "import numpy as np\r\n",
    "import cantera as ct\r\n",
    "import pandas as pd\r\n",
    "import matplotlib.pyplot as plt\r\n",
    "%matplotlib inline"
   ],
   "outputs": [],
   "metadata": {}
  },
  {
   "cell_type": "code",
   "execution_count": 3,
   "source": [
    "dfs = []\r\n",
    "\r\n",
    "for i in range(1, 9):\r\n",
    "\r\n",
    "    base_path = 'flame_speed_ch4_20210531_102003'\r\n",
    "    file_path = f'/RUN_{i:06}/CKSoln_Flame_SpeedC1.ckcsv'\r\n",
    "    path = base_path + file_path\r\n",
    "    \r\n",
    "    df_read = pd.read_csv(path, skiprows=1, header=None)\r\n",
    "\r\n",
    "    columns_long = df_read.iloc[:, 0] + df_read.iloc[:, 1] \r\n",
    "\r\n",
    "    columns = []\r\n",
    "    for name in columns_long:\r\n",
    "        columns.append(name.split('_Run')[0])\r\n",
    "\r\n",
    "    df = pd.DataFrame(data=df_read.iloc[:, 2:].T.to_numpy(), columns=columns)\r\n",
    "    \r\n",
    "    dfs.append(df)"
   ],
   "outputs": [],
   "metadata": {
    "tags": []
   }
  },
  {
   "cell_type": "code",
   "execution_count": 4,
   "source": [
    "print(columns)"
   ],
   "outputs": [
    {
     "output_type": "stream",
     "name": "stdout",
     "text": [
      "['Distance', 'Pressure', 'Mass_density', 'Axial_velocity', 'Cross-section_area', 'Net_heat_production_from_gas-phase_reactions', 'EINO', 'EINO2', 'EINOX', 'EICO', 'Unburned_fuel_fraction', 'Temperature', 'Mole_fraction_H2', 'Mole_fraction_H', 'Mole_fraction_O', 'Mole_fraction_O2', 'Mole_fraction_OH', 'Mole_fraction_H2O', 'Mole_fraction_HO2', 'Mole_fraction_H2O2', 'Mole_fraction_C', 'Mole_fraction_CH', 'Mole_fraction_CH2', 'Mole_fraction_CH2(S)', 'Mole_fraction_CH3', 'Mole_fraction_CH4', 'Mole_fraction_CO', 'Mole_fraction_CO2', 'Mole_fraction_HCO', 'Mole_fraction_CH2O', 'Mole_fraction_CH2OH', 'Mole_fraction_CH3O', 'Mole_fraction_CH3OH', 'Mole_fraction_C2H', 'Mole_fraction_C2H2', 'Mole_fraction_C2H3', 'Mole_fraction_C2H4', 'Mole_fraction_C2H5', 'Mole_fraction_C2H6', 'Mole_fraction_HCCO', 'Mole_fraction_CH2CO', 'Mole_fraction_HCCOH', 'Mole_fraction_N', 'Mole_fraction_NH', 'Mole_fraction_NH2', 'Mole_fraction_NH3', 'Mole_fraction_NNH', 'Mole_fraction_NO', 'Mole_fraction_NO2', 'Mole_fraction_N2O', 'Mole_fraction_HNO', 'Mole_fraction_CN', 'Mole_fraction_HCN', 'Mole_fraction_H2CN', 'Mole_fraction_HCNN', 'Mole_fraction_HCNO', 'Mole_fraction_HOCN', 'Mole_fraction_HNCO', 'Mole_fraction_NCO', 'Mole_fraction_N2', 'Mole_fraction_AR', 'Mole_fraction_C3H7', 'Mole_fraction_C3H8', 'Mole_fraction_CH2CHO', 'Mole_fraction_CH3CHO', 'Flow_rate', 'Molecular_weight', 'Specific_heat_Cp', 'Mixture_thermal_conductivity', 'Mixture_binary_diffusion_coefficients_H2', 'Mixture_binary_diffusion_coefficients_H', 'Mixture_binary_diffusion_coefficients_O', 'Mixture_binary_diffusion_coefficients_O2', 'Mixture_binary_diffusion_coefficients_OH', 'Mixture_binary_diffusion_coefficients_H2O', 'Mixture_binary_diffusion_coefficients_HO2', 'Mixture_binary_diffusion_coefficients_H2O2', 'Mixture_binary_diffusion_coefficients_C', 'Mixture_binary_diffusion_coefficients_CH', 'Mixture_binary_diffusion_coefficients_CH2', 'Mixture_binary_diffusion_coefficients_CH2(S)', 'Mixture_binary_diffusion_coefficients_CH3', 'Mixture_binary_diffusion_coefficients_CH4', 'Mixture_binary_diffusion_coefficients_CO', 'Mixture_binary_diffusion_coefficients_CO2', 'Mixture_binary_diffusion_coefficients_HCO', 'Mixture_binary_diffusion_coefficients_CH2O', 'Mixture_binary_diffusion_coefficients_CH2OH', 'Mixture_binary_diffusion_coefficients_CH3O', 'Mixture_binary_diffusion_coefficients_CH3OH', 'Mixture_binary_diffusion_coefficients_C2H', 'Mixture_binary_diffusion_coefficients_C2H2', 'Mixture_binary_diffusion_coefficients_C2H3', 'Mixture_binary_diffusion_coefficients_C2H4', 'Mixture_binary_diffusion_coefficients_C2H5', 'Mixture_binary_diffusion_coefficients_C2H6', 'Mixture_binary_diffusion_coefficients_HCCO', 'Mixture_binary_diffusion_coefficients_CH2CO', 'Mixture_binary_diffusion_coefficients_HCCOH', 'Mixture_binary_diffusion_coefficients_N', 'Mixture_binary_diffusion_coefficients_NH', 'Mixture_binary_diffusion_coefficients_NH2', 'Mixture_binary_diffusion_coefficients_NH3', 'Mixture_binary_diffusion_coefficients_NNH', 'Mixture_binary_diffusion_coefficients_NO', 'Mixture_binary_diffusion_coefficients_NO2', 'Mixture_binary_diffusion_coefficients_N2O', 'Mixture_binary_diffusion_coefficients_HNO', 'Mixture_binary_diffusion_coefficients_CN', 'Mixture_binary_diffusion_coefficients_HCN', 'Mixture_binary_diffusion_coefficients_H2CN', 'Mixture_binary_diffusion_coefficients_HCNN', 'Mixture_binary_diffusion_coefficients_HCNO', 'Mixture_binary_diffusion_coefficients_HOCN', 'Mixture_binary_diffusion_coefficients_HNCO', 'Mixture_binary_diffusion_coefficients_NCO', 'Mixture_binary_diffusion_coefficients_N2', 'Mixture_binary_diffusion_coefficients_AR', 'Mixture_binary_diffusion_coefficients_C3H7', 'Mixture_binary_diffusion_coefficients_C3H8', 'Mixture_binary_diffusion_coefficients_CH2CHO', 'Mixture_binary_diffusion_coefficients_CH3CHO', 'label solution_point_value_vs_solution_number', 'Solution_No', 'Number_of_grid_points', 'Flame_speed']\n"
     ]
    }
   ],
   "metadata": {
    "tags": []
   }
  },
  {
   "cell_type": "markdown",
   "source": [
    "# Pre-procces\n",
    "get Mass Fraction"
   ],
   "metadata": {}
  },
  {
   "cell_type": "code",
   "execution_count": 29,
   "source": [
    "# Load Molecular Weight\r\n",
    "df_species = pd.read_csv('Species_List_GRI.csv')\r\n",
    "num_species = df_species.shape[0]\r\n",
    "columns_X = 'Mole_fraction_' + df_species['Name'].to_numpy()\r\n",
    "columns_Y = 'Mass_fraction_' + df_species['Name'].to_numpy()\r\n",
    "molecular_weights = df_species['Molecular_Weight'].to_numpy()\r\n",
    "\r\n",
    "dfs_Y = []\r\n",
    "\r\n",
    "for df in dfs:\r\n",
    "\r\n",
    "    # Prepare ndarray from dataframe\r\n",
    "    mole_fractions = df[columns_X].to_numpy()\r\n",
    "    mean_molecular_weight = df['Molecular_weight'].to_numpy()\r\n",
    "\r\n",
    "    # Calculate mass fraction\r\n",
    "    mass_fractions = np.divide(np.multiply(mole_fractions, molecular_weights).T, mean_molecular_weight).T\r\n",
    "    df_Y = pd.DataFrame(mass_fractions, columns=columns_Y)\r\n",
    "\r\n",
    "    dfs_Y.append(df_Y)"
   ],
   "outputs": [],
   "metadata": {
    "tags": []
   }
  },
  {
   "cell_type": "markdown",
   "source": [
    "# Test to get binary diffusion coefficient\r\n",
    "using cantera"
   ],
   "metadata": {}
  },
  {
   "cell_type": "code",
   "execution_count": 64,
   "source": [
    "T = df['Temperature'][0]\r\n",
    "P = df['Pressure'][0]\r\n",
    "X = df[columns_X].to_numpy()[0, :]\r\n",
    "Y = df_Y.to_numpy()[0, :]\r\n",
    "dYdx = np.gradient(df_Y, df['Distance'], axis=0)[0, :]\r\n",
    "rho = df['Mass_density'][0]"
   ],
   "outputs": [],
   "metadata": {}
  },
  {
   "cell_type": "code",
   "execution_count": 14,
   "source": [
    "gas = ct.Solution('gri30.yaml')\r\n",
    "gas.TPX = T, P, X"
   ],
   "outputs": [],
   "metadata": {}
  },
  {
   "cell_type": "code",
   "execution_count": 56,
   "source": [
    "D_ij = gas.binary_diff_coeffs # m2/s"
   ],
   "outputs": [],
   "metadata": {}
  },
  {
   "cell_type": "code",
   "execution_count": 57,
   "source": [
    "kb = 1.380649e-23 # J/K\r\n",
    "e = 1.602176634e-19 # C\r\n",
    "\r\n",
    "mu_ij = (e/(kb*T))*D_ij # m2/V/s"
   ],
   "outputs": [],
   "metadata": {}
  },
  {
   "cell_type": "code",
   "execution_count": 62,
   "source": [
    "sum = np.zeros(num_species)\r\n",
    "\r\n",
    "for i in range(num_species):\r\n",
    "    for j in range(num_species):\r\n",
    "        \r\n",
    "        if i == j:\r\n",
    "            continue\r\n",
    "\r\n",
    "        sum[i] += X[i]/mu_ij[i, j]\r\n",
    "\r\n",
    "mu_im = np.divide(1.0, sum) # m2/V/s"
   ],
   "outputs": [],
   "metadata": {}
  },
  {
   "cell_type": "code",
   "execution_count": 65,
   "source": [
    "electric_field = 5e5 # V/m\r\n",
    "Je = rho*electric_field*np.multiply(mu_im, Y)"
   ],
   "outputs": [],
   "metadata": {}
  },
  {
   "cell_type": "code",
   "execution_count": 66,
   "source": [
    "Je"
   ],
   "outputs": [
    {
     "output_type": "execute_result",
     "data": {
      "text/plain": [
       "array([ 222.09853903,  164.89085429,  720.26137351,  918.50418367,\n",
       "        750.63795863,  535.81645731,  941.43847314,  963.22670016,\n",
       "        515.21777071,  626.46455392,  440.24817325,  440.24817325,\n",
       "        461.05552998,  489.50379329,  800.67449518,  924.44648673,\n",
       "        595.91737742,  611.30615667,  633.35293048,  633.35293048,\n",
       "        640.85996949,  567.95595229,  584.55828569,  601.10050232,\n",
       "        601.28931287,  581.4822877 ,  596.45448646, 1389.6155596 ,\n",
       "        742.01990821,  742.01990821,  570.40287647,  710.85728258,\n",
       "        739.56655135,  490.65731307,  833.59931601,  850.8141239 ,\n",
       "       1073.00748665,  919.55100286,  876.12510811,  751.04789584,\n",
       "        541.22602308,  556.06559228, 1389.58718047,  902.72479399,\n",
       "        902.72479399,  902.72479399,  885.96285299,  807.79250401,\n",
       "       1082.04773164,  664.35786578,  676.69244258,  756.0841222 ,\n",
       "        771.88404184])"
      ]
     },
     "metadata": {},
     "execution_count": 66
    }
   ],
   "metadata": {}
  },
  {
   "cell_type": "markdown",
   "source": [
    "# Calculate Diffusion Coefficient"
   ],
   "metadata": {}
  },
  {
   "cell_type": "code",
   "execution_count": null,
   "source": [
    "D_dash = D - mu*Y*E/dYdx"
   ],
   "outputs": [],
   "metadata": {}
  }
 ],
 "metadata": {
  "kernelspec": {
   "name": "python3",
   "display_name": "Python 3.9.6 64-bit ('cantera': conda)"
  },
  "language_info": {
   "codemirror_mode": {
    "name": "ipython",
    "version": 3
   },
   "file_extension": ".py",
   "mimetype": "text/x-python",
   "name": "python",
   "nbconvert_exporter": "python",
   "pygments_lexer": "ipython3",
   "version": "3.9.6"
  },
  "interpreter": {
   "hash": "1635d9291db09a2eeab95dfc9324b984173ddb0eb06d7df4ba39d53150a3b53f"
  }
 },
 "nbformat": 4,
 "nbformat_minor": 5
}